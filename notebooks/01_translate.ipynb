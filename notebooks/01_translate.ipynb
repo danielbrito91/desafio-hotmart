{
 "cells": [
  {
   "cell_type": "code",
   "execution_count": 1,
   "metadata": {},
   "outputs": [
    {
     "name": "stdout",
     "output_type": "stream",
     "text": [
      "/Users/danieloliveiradebrito/Projetos/desafio-hotmart\n"
     ]
    },
    {
     "name": "stderr",
     "output_type": "stream",
     "text": [
      "/Users/danieloliveiradebrito/Projetos/desafio-hotmart/.venv/lib/python3.10/site-packages/IPython/core/magics/osm.py:417: UserWarning: This is now an optional IPython functionality, setting dhist requires you to install the `pickleshare` library.\n",
      "  self.shell.db['dhist'] = compress_dhist(dhist)[-100:]\n"
     ]
    }
   ],
   "source": [
    "%cd .."
   ]
  },
  {
   "cell_type": "code",
   "execution_count": 2,
   "metadata": {},
   "outputs": [],
   "source": [
    "%load_ext autoreload\n",
    "%autoreload 2"
   ]
  },
  {
   "cell_type": "markdown",
   "metadata": {},
   "source": [
    "# NLLB distiled"
   ]
  },
  {
   "cell_type": "markdown",
   "metadata": {},
   "source": [
    "## Teste 1\n",
    "\n",
    "por_Latn-eng_Latn\t69 em chrf++\n",
    "\n",
    "https://huggingface.co/facebook/nllb-200-distilled-600M"
   ]
  },
  {
   "cell_type": "code",
   "execution_count": 9,
   "metadata": {},
   "outputs": [],
   "source": [
    "import json\n",
    "from transformers import pipeline\n",
    "\n",
    "translator = pipeline(\"translation\", model=\"facebook/nllb-200-distilled-600M\", tgt_lang=\"eng_Latn\", src_lang=\"por_Latn\")\n"
   ]
  },
  {
   "cell_type": "code",
   "execution_count": 6,
   "metadata": {},
   "outputs": [
    {
     "data": {
      "text/plain": [
       "'Hey, are you okay?'"
      ]
     },
     "execution_count": 6,
     "metadata": {},
     "output_type": "execute_result"
    }
   ],
   "source": [
    "translator(\"oi! Tudo bem?\")[0][\"translation_text\"]"
   ]
  },
  {
   "cell_type": "code",
   "execution_count": 10,
   "metadata": {},
   "outputs": [],
   "source": [
    "with open(\"data/output/transcricao_com_timestamps.json\", \"r\") as f:\n",
    "    data = json.load(f)"
   ]
  },
  {
   "cell_type": "code",
   "execution_count": 8,
   "metadata": {},
   "outputs": [
    {
     "name": "stderr",
     "output_type": "stream",
     "text": [
      "Your input_length: 975 is bigger than 0.9 * max_length: 200. You might consider increasing your max_length manually, e.g. translator('...', max_length=400)\n"
     ]
    }
   ],
   "source": [
    "translated_chunks = []\n",
    "for chunk in data[\"chunks\"]:\n",
    "    translated_chunck = dict(\n",
    "        timestamp=chunk[\"timestamp\"],\n",
    "        text=translator(chunk[\"text\"])[0][\"translation_text\"]\n",
    "    )\n",
    "\n",
    "    translated_chunks.append(translated_chunck)\n",
    "\n",
    "translated_data = dict(\n",
    "    text = translator(data[\"text\"])[0][\"translation_text\"],\n",
    "    chunks = translated_chunks\n",
    ")"
   ]
  },
  {
   "cell_type": "code",
   "execution_count": 9,
   "metadata": {},
   "outputs": [
    {
     "data": {
      "text/plain": [
       "{'text': \"So to be a successful affiliate, then I need to follow a few basic steps and pay attention to several details. So, as a producer or as an affiliate, then I need to take a few basic steps and then I'll show you the step-by-step process to make your first sale as an affiliate on Hotmart. Let's go. Affiliates are those people who work by publishing other people's online courses and getting a commission for each sale made. So to be a successful affiliate, then I need to follow a few basic steps and pay attention to a lot of details. So, then, you need to be aware of the fact that our activity doesn't give you any good results as an affiliate on Hotmart. So let's go. The first thing I want to do is to get a good price for your courses. So, if you want to get a good price for your affiliate courses\",\n",
       " 'chunks': [{'timestamp': [0.0, 2.42],\n",
       "   'text': 'Do you want to make money working on the Internet?'},\n",
       "  {'timestamp': [3.12, 5.7],\n",
       "   'text': 'By Hotmart you have two ways to do that.'},\n",
       "  {'timestamp': [6.2, 7.94], 'text': 'Or as a producer, or as an affiliate.'},\n",
       "  {'timestamp': [8.6, 13.78],\n",
       "   'text': \"Today we're going to show you the step-by-step for you to make your first sale as an affiliate at Hotmart.\"},\n",
       "  {'timestamp': [14.28, 14.92], 'text': 'Are we going?'},\n",
       "  {'timestamp': [15.46, 19.42],\n",
       "   'text': \"Affiliates are those people who work by publicizing other people's online courses.\"},\n",
       "  {'timestamp': [19.42, 22.12],\n",
       "   'text': 'and receiving a commission for each sale made.'},\n",
       "  {'timestamp': [22.78, 25.1],\n",
       "   'text': 'Most products at Hotmart accept affiliates.'},\n",
       "  {'timestamp': [25.58, 27.16], 'text': 'To be a successful affiliate,'},\n",
       "  {'timestamp': [0.0, 4.2],\n",
       "   'text': 'I need to follow a few basic steps and pay attention to several details.'},\n",
       "  {'timestamp': [4.2, 9.4],\n",
       "   'text': 'It also takes a lot of work and the awareness that such activity is not productive day after night'},\n",
       "  {'timestamp': [9.4, 12.38],\n",
       "   'text': 'The first thing you do is sign up for Hotmart.'},\n",
       "  {'timestamp': [12.38, 15.36],\n",
       "   'text': 'So what you need to do is click here to register yourself'},\n",
       "  {'timestamp': [15.36, 18.18],\n",
       "   'text': 'And then it opens up our Hotmart registration screen.'},\n",
       "  {'timestamp': [18.18, 21.78],\n",
       "   'text': 'You have the option to register or with your Facebook account'},\n",
       "  {'timestamp': [21.78, 24.76], 'text': 'Or else you register your name here'},\n",
       "  {'timestamp': [24.76, 26.98], 'text': 'Then you put your name, your email.'},\n",
       "  {'timestamp': [0.0, 3.24], 'text': 'And underneath you choose a password.'},\n",
       "  {'timestamp': [3.84, 4.16], 'text': 'What, beautiful?'},\n",
       "  {'timestamp': [4.54, 6.26], 'text': 'Click on continue and ready.'},\n",
       "  {'timestamp': [7.34, 10.38],\n",
       "   'text': 'And then, when you enter the platform, you click here in the market section.'},\n",
       "  {'timestamp': [11.06, 14.06],\n",
       "   'text': 'Here you will see all the courses available on the Hotmart platform.'},\n",
       "  {'timestamp': [14.72, 17.56],\n",
       "   'text': 'Among the courses that accept affiliations, there are two types.'},\n",
       "  {'timestamp': [18.04, 23.18],\n",
       "   'text': 'Open affiliate courses, which means anyone can join and start selling.'},\n",
       "  {'timestamp': [23.76, 25.44], 'text': 'Or moderate-level courses.'},\n",
       "  {'timestamp': [26.08, 29.0],\n",
       "   'text': 'In moderate membership, you need to apply for your membership.'},\n",
       "  {'timestamp': [0.0, 2.42],\n",
       "   'text': 'And the producer may or may not accept it.'},\n",
       "  {'timestamp': [2.9, 6.38],\n",
       "   'text': \"The second thing to do is to define which niche market you're going to work in.\"},\n",
       "  {'timestamp': [7.12, 10.5],\n",
       "   'text': 'Choose courses on a subject you master, that you have knowledge of,'},\n",
       "  {'timestamp': [10.94, 12.1], 'text': 'Even a little bit.'},\n",
       "  {'timestamp': [12.48, 15.84],\n",
       "   'text': 'This is important for you to be able to create content and promotional materials'},\n",
       "  {'timestamp': [15.84, 18.42],\n",
       "   'text': 'the matters of interest to potential buyers.'},\n",
       "  {'timestamp': [18.92, 23.78],\n",
       "   'text': \"After that, you'll research on Hotmart's platform which courses are worth joining.\"},\n",
       "  {'timestamp': [23.78, 26.92],\n",
       "   'text': 'To do that, you need to analyze five factors.'},\n",
       "  {'timestamp': [0.0, 7.34],\n",
       "   'text': 'The Commission has also adopted a number of proposals for a new programme of action.'},\n",
       "  {'timestamp': [7.78, 10.12],\n",
       "   'text': \"I'm going to explain each of these factors now, one by one.\"},\n",
       "  {'timestamp': [10.66, 14.04],\n",
       "   'text': \"So I'm gonna go in here and I'm gonna click here on the wine course, Salude, okay?\"},\n",
       "  {'timestamp': [15.14, 17.9],\n",
       "   'text': 'Satisfaction is the assessment of the course according to who has already purchased it.'},\n",
       "  {'timestamp': [18.46, 21.52],\n",
       "   'text': 'If you join courses with high satisfaction rates,'},\n",
       "  {'timestamp': [22.56, 25.68],\n",
       "   'text': 'lower the chances of having customers dissatisfied with the product you sold.'},\n",
       "  {'timestamp': [0.0, 10.74],\n",
       "   'text': 'So a product that has high satisfaction, the chance of it having a refund request is much lower than products that have low satisfaction, that is, are poorly evaluated by their buyers.'},\n",
       "  {'timestamp': [11.18, 15.16],\n",
       "   'text': 'The temperature is a Hotmart index, beauty?'},\n",
       "  {'timestamp': [15.72, 24.78],\n",
       "   'text': \"So what it means is this, that we're going to evaluate all the things that that product has, good and bad from a numerical point of view,\"},\n",
       "  {'timestamp': [25.22, 28.2],\n",
       "   'text': 'So we can put it higher or lower on the market.'},\n",
       "  {'timestamp': [0.0, 6.6],\n",
       "   'text': 'So if the product has a lot of sales, an open-ended product, a lot of affiliates, a lot of sales per affiliate,'},\n",
       "  {'timestamp': [7.08, 11.6],\n",
       "   'text': \"Low refund, low chargeback, consequently it's going to be warmer.\"},\n",
       "  {'timestamp': [11.9, 15.56],\n",
       "   'text': \"Now that doesn't mean the product that's colder is a bad product.\"},\n",
       "  {'timestamp': [16.0, 19.82],\n",
       "   'text': \"It means it's a product that suddenly hasn't been noticed yet, well noticed by people,\"},\n",
       "  {'timestamp': [20.56, 27.68],\n",
       "   'text': \"Or because it's a product that suddenly the manufacturer hasn't put much selling effort on it yet.\"},\n",
       "  {'timestamp': [0.54, 5.9],\n",
       "   'text': 'So the temperature indicates how that product is being evaluated by the market at that moment,'},\n",
       "  {'timestamp': [6.02, 10.04],\n",
       "   'text': \"But that doesn't mean you don't have good chances with a low-temperature product.\"},\n",
       "  {'timestamp': [10.48, 15.52],\n",
       "   'text': 'And, of course, products that are hotter tend to attract more affiliates.'},\n",
       "  {'timestamp': [15.94, 18.8], 'text': 'So the hotter, the more affiliate.'},\n",
       "  {'timestamp': [18.8, 26.02],\n",
       "   'text': 'There was a client of ours who left the affiliate open one day and was in a warmer place,'},\n",
       "  {'timestamp': [26.1, 28.14], 'text': 'He had 3,000 affiliates in one day.'},\n",
       "  {'timestamp': [0.54, 4.88],\n",
       "   'text': \"So imagine that if the product is too hot, naturally you'll have more competition to sell it.\"},\n",
       "  {'timestamp': [5.48, 9.72],\n",
       "   'text': 'The blueprint represents the quality of the information registered by the product creator.'},\n",
       "  {'timestamp': [9.72, 15.22],\n",
       "   'text': 'So the more relevant and detailed the product information, the bigger the blueprint will be.'},\n",
       "  {'timestamp': [15.8, 20.48],\n",
       "   'text': 'High blueprint products tend to provide good promotional materials for affiliates'},\n",
       "  {'timestamp': [20.48, 25.0],\n",
       "   'text': 'and a higher proportion of the commission per sale and the final price.'}]}"
      ]
     },
     "execution_count": 9,
     "metadata": {},
     "output_type": "execute_result"
    }
   ],
   "source": [
    "translated_data"
   ]
  },
  {
   "cell_type": "code",
   "execution_count": 16,
   "metadata": {},
   "outputs": [],
   "source": [
    "text_by_chunk = \"\"\n",
    "for chunk in translated_data[\"chunks\"]:\n",
    "    text_by_chunk += chunk[\"text\"] + \" \""
   ]
  },
  {
   "cell_type": "code",
   "execution_count": 17,
   "metadata": {},
   "outputs": [
    {
     "name": "stdout",
     "output_type": "stream",
     "text": [
      "Do you want to make money working on the Internet? By Hotmart you have two ways to do that. Or as a producer, or as an affiliate. Today we're going to show you the step-by-step for you to make your first sale as an affiliate at Hotmart. Are we going? Affiliates are those people who work by publicizing other people's online courses. and receiving a commission for each sale made. Most products at Hotmart accept affiliates. To be a successful affiliate, I need to follow a few basic steps and pay attention to several details. It also takes a lot of work and the awareness that such activity is not productive day after night The first thing you do is sign up for Hotmart. So what you need to do is click here to register yourself And then it opens up our Hotmart registration screen. You have the option to register or with your Facebook account Or else you register your name here Then you put your name, your email. And underneath you choose a password. What, beautiful? Click on continue and ready. And then, when you enter the platform, you click here in the market section. Here you will see all the courses available on the Hotmart platform. Among the courses that accept affiliations, there are two types. Open affiliate courses, which means anyone can join and start selling. Or moderate-level courses. In moderate membership, you need to apply for your membership. And the producer may or may not accept it. The second thing to do is to define which niche market you're going to work in. Choose courses on a subject you master, that you have knowledge of, Even a little bit. This is important for you to be able to create content and promotional materials the matters of interest to potential buyers. After that, you'll research on Hotmart's platform which courses are worth joining. To do that, you need to analyze five factors. The Commission has also adopted a number of proposals for a new programme of action. I'm going to explain each of these factors now, one by one. So I'm gonna go in here and I'm gonna click here on the wine course, Salude, okay? Satisfaction is the assessment of the course according to who has already purchased it. If you join courses with high satisfaction rates, lower the chances of having customers dissatisfied with the product you sold. So a product that has high satisfaction, the chance of it having a refund request is much lower than products that have low satisfaction, that is, are poorly evaluated by their buyers. The temperature is a Hotmart index, beauty? So what it means is this, that we're going to evaluate all the things that that product has, good and bad from a numerical point of view, So we can put it higher or lower on the market. So if the product has a lot of sales, an open-ended product, a lot of affiliates, a lot of sales per affiliate, Low refund, low chargeback, consequently it's going to be warmer. Now that doesn't mean the product that's colder is a bad product. It means it's a product that suddenly hasn't been noticed yet, well noticed by people, Or because it's a product that suddenly the manufacturer hasn't put much selling effort on it yet. So the temperature indicates how that product is being evaluated by the market at that moment, But that doesn't mean you don't have good chances with a low-temperature product. And, of course, products that are hotter tend to attract more affiliates. So the hotter, the more affiliate. There was a client of ours who left the affiliate open one day and was in a warmer place, He had 3,000 affiliates in one day. So imagine that if the product is too hot, naturally you'll have more competition to sell it. The blueprint represents the quality of the information registered by the product creator. So the more relevant and detailed the product information, the bigger the blueprint will be. High blueprint products tend to provide good promotional materials for affiliates and a higher proportion of the commission per sale and the final price. \n"
     ]
    }
   ],
   "source": [
    "print(text_by_chunk)"
   ]
  },
  {
   "cell_type": "code",
   "execution_count": 18,
   "metadata": {},
   "outputs": [
    {
     "data": {
      "text/plain": [
       "{'text': ' Você quer ganhar dinheiro trabalhando pela internet? Pela Hotmart você tem duas formas de fazer isso. Ou como produtor, ou como afiliado. Hoje nós vamos te mostrar o passo a passo pra você fazer a sua primeira venda como afiliado na Hotmart. Vamos lá? Afiliados são aquelas pessoas que trabalham divulgando cursos online de outras pessoas e recebendo uma comissão por cada venda realizada. A maioria dos produtos na Hotmart aceitam afiliados. Pra conseguir ser um afiliado de sucesso, Preciso seguir alguns passos básicos e prestar atenção em vários detalhes Também é preciso muito trabalho e a consciência de que essa atividade não dá frutos da noite pro dia Primeira coisa a se fazer é se cadastrar na Hotmart Então o que você precisa fazer é clicar aqui em cadastre-se E aí vai abrir a nossa tela de cadastro da Hotmart Você tem a opção de cadastrar ou com a sua conta do Facebook Ou então você cadastrar seu nome aqui Então você coloca o seu nome, o seu e-mail e embaixo você escolhe uma senha. Beleza? Clique em continuar e pronto. E aí, ao entrar na plataforma, você clica aqui na seção mercado. Aqui você vai ver todos os cursos disponíveis na plataforma da Hotmart. Entre os cursos que aceitam afiliações, existem dois tipos. Os cursos de afiliação aberta, ou seja, qualquer pessoa pode se afiliar e começar a vender. Ou os cursos com afiliação moderada. Na afiliação moderada, você precisa solicitar sua afiliação. e o produtor pode ou não aceitar. A segunda coisa a se fazer é definir qual nicho do mercado você vai trabalhar. Escolha cursos sobre um assunto que você domine, que você tenha conhecimento, mesmo que um pouquinho só. Isso é importante para você conseguir criar conteúdos e materiais de divulgação sobre os assuntos de interesse dos possíveis compradores. Depois disso, você vai pesquisar na plataforma da Hotmart quais cursos vale a pena se afiliar. Para isso, você precisa analisar cinco fatores. Temperatura, Blueprint, Satisfação, Valor da Comissão por Venda e a Forma do Comissionamento. Eu vou explicar cada um desses fatores agora, um por um. Então eu vou entrar aqui e vou clicar aqui no curso de vinho, Salude, tá bom? Satisfação é a avaliação do curso de acordo com quem já comprou. Se você se afiliar aos cursos com alto índice de satisfação, menores são as chances de ter clientes insatisfeitos com o produto que você vendeu. Então um produto que tiver satisfação alta, a chance dele ter um pedido de reembolso é muito menor do que os produtos que tem satisfação baixa, ou seja, são mal avaliados pelos seus compradores. A temperatura é um índice da Hotmart, beleza? Então quer dizer o seguinte, que a gente vai avaliar todas as coisas que aquele produto tiver de bom e de ruim do ponto de vista de números, pra gente poder colocar ele mais alto ou mais baixo no mercado. Ou seja, se o produto tem muita venda, produto aberto à filiação, muitos afiliados, muitas vendas por afiliado, baixo reembolso, baixo chargeback, consequentemente ele vai estar mais quente. Agora isso não quer dizer que o produto que está mais frio é um produto ruim. Quer dizer que ele é um produto que de repente ainda não foi percebido, bem percebido pelas pessoas, ou porque é um produto que de repente o produtor ainda não colocou muito esforço de venda sobre ele. Então, a temperatura indica como esse produto está sendo avaliado pelo mercado naquele momento, mas não quer dizer que você não tenha boas oportunidades com um produto com temperatura baixa. E, naturalmente, os produtos que são mais quentes tendem a atrair mais afiliados. Então, quanto mais quente, mais afiliado. Já aconteceu um cliente nosso que deixou a afiliação aberta em um dia e estava num lugar mais quente, ele teve 3 mil afiliados em um dia. Então, imagina que se o produto está muito quente, naturalmente você vai ter mais concorrência para vendê-lo. O blueprint representa a qualidade das informações cadastradas pelo criador do produto. Então, quanto mais relevantes e detalhadas as informações sobre o produto, maior vai ser o blueprint. Os produtos com blueprint alto tendem a disponibilizar bons materiais de divulgação para os afiliados e uma proporção maior entre a comissão por venda e o preço final.',\n",
       " 'chunks': [{'timestamp': [0.0, 2.42],\n",
       "   'text': ' Você quer ganhar dinheiro trabalhando pela internet?'},\n",
       "  {'timestamp': [3.12, 5.7],\n",
       "   'text': ' Pela Hotmart você tem duas formas de fazer isso.'},\n",
       "  {'timestamp': [6.2, 7.94], 'text': ' Ou como produtor, ou como afiliado.'},\n",
       "  {'timestamp': [8.6, 13.78],\n",
       "   'text': ' Hoje nós vamos te mostrar o passo a passo pra você fazer a sua primeira venda como afiliado na Hotmart.'},\n",
       "  {'timestamp': [14.28, 14.92], 'text': ' Vamos lá?'},\n",
       "  {'timestamp': [15.46, 19.42],\n",
       "   'text': ' Afiliados são aquelas pessoas que trabalham divulgando cursos online de outras pessoas'},\n",
       "  {'timestamp': [19.42, 22.12],\n",
       "   'text': ' e recebendo uma comissão por cada venda realizada.'},\n",
       "  {'timestamp': [22.78, 25.1],\n",
       "   'text': ' A maioria dos produtos na Hotmart aceitam afiliados.'},\n",
       "  {'timestamp': [25.58, 27.16],\n",
       "   'text': ' Pra conseguir ser um afiliado de sucesso,'},\n",
       "  {'timestamp': [0.0, 4.2],\n",
       "   'text': ' Preciso seguir alguns passos básicos e prestar atenção em vários detalhes'},\n",
       "  {'timestamp': [4.2, 9.4],\n",
       "   'text': ' Também é preciso muito trabalho e a consciência de que essa atividade não dá frutos da noite pro dia'},\n",
       "  {'timestamp': [9.4, 12.38],\n",
       "   'text': ' Primeira coisa a se fazer é se cadastrar na Hotmart'},\n",
       "  {'timestamp': [12.38, 15.36],\n",
       "   'text': ' Então o que você precisa fazer é clicar aqui em cadastre-se'},\n",
       "  {'timestamp': [15.36, 18.18],\n",
       "   'text': ' E aí vai abrir a nossa tela de cadastro da Hotmart'},\n",
       "  {'timestamp': [18.18, 21.78],\n",
       "   'text': ' Você tem a opção de cadastrar ou com a sua conta do Facebook'},\n",
       "  {'timestamp': [21.78, 24.76],\n",
       "   'text': ' Ou então você cadastrar seu nome aqui'},\n",
       "  {'timestamp': [24.76, 26.98],\n",
       "   'text': ' Então você coloca o seu nome, o seu e-mail'},\n",
       "  {'timestamp': [0.0, 3.24], 'text': ' e embaixo você escolhe uma senha.'},\n",
       "  {'timestamp': [3.84, 4.16], 'text': ' Beleza?'},\n",
       "  {'timestamp': [4.54, 6.26], 'text': ' Clique em continuar e pronto.'},\n",
       "  {'timestamp': [7.34, 10.38],\n",
       "   'text': ' E aí, ao entrar na plataforma, você clica aqui na seção mercado.'},\n",
       "  {'timestamp': [11.06, 14.06],\n",
       "   'text': ' Aqui você vai ver todos os cursos disponíveis na plataforma da Hotmart.'},\n",
       "  {'timestamp': [14.72, 17.56],\n",
       "   'text': ' Entre os cursos que aceitam afiliações, existem dois tipos.'},\n",
       "  {'timestamp': [18.04, 23.18],\n",
       "   'text': ' Os cursos de afiliação aberta, ou seja, qualquer pessoa pode se afiliar e começar a vender.'},\n",
       "  {'timestamp': [23.76, 25.44],\n",
       "   'text': ' Ou os cursos com afiliação moderada.'},\n",
       "  {'timestamp': [26.08, 29.0],\n",
       "   'text': ' Na afiliação moderada, você precisa solicitar sua afiliação.'},\n",
       "  {'timestamp': [0.0, 2.42], 'text': ' e o produtor pode ou não aceitar.'},\n",
       "  {'timestamp': [2.9, 6.38],\n",
       "   'text': ' A segunda coisa a se fazer é definir qual nicho do mercado você vai trabalhar.'},\n",
       "  {'timestamp': [7.12, 10.5],\n",
       "   'text': ' Escolha cursos sobre um assunto que você domine, que você tenha conhecimento,'},\n",
       "  {'timestamp': [10.94, 12.1], 'text': ' mesmo que um pouquinho só.'},\n",
       "  {'timestamp': [12.48, 15.84],\n",
       "   'text': ' Isso é importante para você conseguir criar conteúdos e materiais de divulgação'},\n",
       "  {'timestamp': [15.84, 18.42],\n",
       "   'text': ' sobre os assuntos de interesse dos possíveis compradores.'},\n",
       "  {'timestamp': [18.92, 23.78],\n",
       "   'text': ' Depois disso, você vai pesquisar na plataforma da Hotmart quais cursos vale a pena se afiliar.'},\n",
       "  {'timestamp': [23.78, 26.92],\n",
       "   'text': ' Para isso, você precisa analisar cinco fatores.'},\n",
       "  {'timestamp': [0.0, 7.34],\n",
       "   'text': ' Temperatura, Blueprint, Satisfação, Valor da Comissão por Venda e a Forma do Comissionamento.'},\n",
       "  {'timestamp': [7.78, 10.12],\n",
       "   'text': ' Eu vou explicar cada um desses fatores agora, um por um.'},\n",
       "  {'timestamp': [10.66, 14.04],\n",
       "   'text': ' Então eu vou entrar aqui e vou clicar aqui no curso de vinho, Salude, tá bom?'},\n",
       "  {'timestamp': [15.14, 17.9],\n",
       "   'text': ' Satisfação é a avaliação do curso de acordo com quem já comprou.'},\n",
       "  {'timestamp': [18.46, 21.52],\n",
       "   'text': ' Se você se afiliar aos cursos com alto índice de satisfação,'},\n",
       "  {'timestamp': [22.56, 25.68],\n",
       "   'text': ' menores são as chances de ter clientes insatisfeitos com o produto que você vendeu.'},\n",
       "  {'timestamp': [0.0, 10.74],\n",
       "   'text': ' Então um produto que tiver satisfação alta, a chance dele ter um pedido de reembolso é muito menor do que os produtos que tem satisfação baixa, ou seja, são mal avaliados pelos seus compradores.'},\n",
       "  {'timestamp': [11.18, 15.16],\n",
       "   'text': ' A temperatura é um índice da Hotmart, beleza?'},\n",
       "  {'timestamp': [15.72, 24.78],\n",
       "   'text': ' Então quer dizer o seguinte, que a gente vai avaliar todas as coisas que aquele produto tiver de bom e de ruim do ponto de vista de números,'},\n",
       "  {'timestamp': [25.22, 28.2],\n",
       "   'text': ' pra gente poder colocar ele mais alto ou mais baixo no mercado.'},\n",
       "  {'timestamp': [0.0, 6.6],\n",
       "   'text': ' Ou seja, se o produto tem muita venda, produto aberto à filiação, muitos afiliados, muitas vendas por afiliado,'},\n",
       "  {'timestamp': [7.08, 11.6],\n",
       "   'text': ' baixo reembolso, baixo chargeback, consequentemente ele vai estar mais quente.'},\n",
       "  {'timestamp': [11.9, 15.56],\n",
       "   'text': ' Agora isso não quer dizer que o produto que está mais frio é um produto ruim.'},\n",
       "  {'timestamp': [16.0, 19.82],\n",
       "   'text': ' Quer dizer que ele é um produto que de repente ainda não foi percebido, bem percebido pelas pessoas,'},\n",
       "  {'timestamp': [20.56, 27.68],\n",
       "   'text': ' ou porque é um produto que de repente o produtor ainda não colocou muito esforço de venda sobre ele.'},\n",
       "  {'timestamp': [0.54, 5.9],\n",
       "   'text': ' Então, a temperatura indica como esse produto está sendo avaliado pelo mercado naquele momento,'},\n",
       "  {'timestamp': [6.02, 10.04],\n",
       "   'text': ' mas não quer dizer que você não tenha boas oportunidades com um produto com temperatura baixa.'},\n",
       "  {'timestamp': [10.48, 15.52],\n",
       "   'text': ' E, naturalmente, os produtos que são mais quentes tendem a atrair mais afiliados.'},\n",
       "  {'timestamp': [15.94, 18.8],\n",
       "   'text': ' Então, quanto mais quente, mais afiliado.'},\n",
       "  {'timestamp': [18.8, 26.02],\n",
       "   'text': ' Já aconteceu um cliente nosso que deixou a afiliação aberta em um dia e estava num lugar mais quente,'},\n",
       "  {'timestamp': [26.1, 28.14], 'text': ' ele teve 3 mil afiliados em um dia.'},\n",
       "  {'timestamp': [0.54, 4.88],\n",
       "   'text': ' Então, imagina que se o produto está muito quente, naturalmente você vai ter mais concorrência para vendê-lo.'},\n",
       "  {'timestamp': [5.48, 9.72],\n",
       "   'text': ' O blueprint representa a qualidade das informações cadastradas pelo criador do produto.'},\n",
       "  {'timestamp': [9.72, 15.22],\n",
       "   'text': ' Então, quanto mais relevantes e detalhadas as informações sobre o produto, maior vai ser o blueprint.'},\n",
       "  {'timestamp': [15.8, 20.48],\n",
       "   'text': ' Os produtos com blueprint alto tendem a disponibilizar bons materiais de divulgação para os afiliados'},\n",
       "  {'timestamp': [20.48, 25.0],\n",
       "   'text': ' e uma proporção maior entre a comissão por venda e o preço final.'}]}"
      ]
     },
     "execution_count": 18,
     "metadata": {},
     "output_type": "execute_result"
    }
   ],
   "source": [
    "data"
   ]
  },
  {
   "cell_type": "markdown",
   "metadata": {},
   "source": [
    "# Google Translator - descontinuado\n",
    "\n",
    "Conflito com OpenAI"
   ]
  },
  {
   "cell_type": "code",
   "execution_count": 10,
   "metadata": {},
   "outputs": [
    {
     "data": {
      "text/plain": [
       "'hey! All good?'"
      ]
     },
     "execution_count": 10,
     "metadata": {},
     "output_type": "execute_result"
    }
   ],
   "source": [
    "# from googletrans import Translator\n",
    "\n",
    "# google_translator = Translator()\n",
    "# google_translator.translate(\"oi! Tudo bem?\", src=\"pt\", dest=\"en\").text"
   ]
  },
  {
   "cell_type": "code",
   "execution_count": 28,
   "metadata": {},
   "outputs": [],
   "source": [
    "# google_trad_concat = \"\"\n",
    "\n",
    "# for chunk in google_trad[\"chunks\"]:\n",
    "#     google_trad_concat += chunk[\"text\"] + \" \""
   ]
  },
  {
   "cell_type": "code",
   "execution_count": 30,
   "metadata": {},
   "outputs": [
    {
     "data": {
      "text/plain": [
       "False"
      ]
     },
     "execution_count": 30,
     "metadata": {},
     "output_type": "execute_result"
    }
   ],
   "source": [
    "# google_trad_concat == google_trad[\"text\"]"
   ]
  },
  {
   "cell_type": "code",
   "execution_count": 32,
   "metadata": {},
   "outputs": [
    {
     "name": "stdout",
     "output_type": "stream",
     "text": [
      "Do you want to earn money working online? At Hotmart you have two ways to do this. Either as a producer, or as an affiliate. Today we're going to show you the step-by-step process to make your first sale as an affiliate at Hotmart. Let's go? Affiliates are those people who work by promoting other people's online courses and receiving a commission for each sale made. Most products on Hotmart accept affiliates. To be a successful affiliate, I need to follow some basic steps and pay attention to several details It also takes a lot of work and the awareness that this activity does not bear fruit overnight. First thing to do is register with Hotmart So what you need to do is click here on register And then our Hotmart registration screen will open You have the option to register or with your Facebook account Or you can register your name here So you put your name, your email and below you choose a password. Beauty? Click continue and that's it. And then, when you enter the platform, you click here on the market section. Here you will see all the courses available on the Hotmart platform. Among the courses that accept affiliations, there are two types. Open affiliation courses, meaning anyone can join and start selling. Or courses with moderate affiliation. In moderated membership, you need to request your membership. and the producer may or may not accept it. The second thing to do is define which market niche you will work on. Choose courses on a subject that you master, that you are knowledgeable about, even if just a little. This is important for you to be able to create content and promotional materials on topics of interest to potential buyers. After that, you will research on the Hotmart platform which courses are worth joining. To do this, you need to analyze five factors. Temperature, Blueprint, Satisfaction, Commission Value per Sale and Commissioning Form. I will explain each of these factors now one by one. So I'm going to go here and click here on the wine course, Health, okay? Satisfaction is the evaluation of the course according to those who have already purchased it. If you join courses with a high satisfaction rate, The chances of having customers dissatisfied with the product you sold are lower. So a product that has high satisfaction, the chance of it being requested for a refund is much lower than products that have low satisfaction, that is, they are poorly evaluated by their buyers. Temperature is a Hotmart index, okay? So this means that we will evaluate all the good and bad things that product has from the point of view of numbers, so we can place it higher or lower on the market. In other words, if the product has a lot of sales, the product is open to membership, many affiliates, many sales per affiliate, low reimbursement, low chargeback, consequently it will be hotter. Now this doesn't mean that the product that is colder is a bad product. This means that it is a product that suddenly has not yet been perceived, well perceived by people, or because it is a product that the producer has not yet put much effort into selling. So, the temperature indicates how this product is being evaluated by the market at that moment, But that doesn't mean you don't have good opportunities with a product with a low temperature. And naturally, products that are hotter tend to attract more affiliates. So the hotter, the more affiliated. It has already happened to a client of ours who left the membership open in one day and was in a warmer place, he had 3 thousand affiliates in one day. So, imagine that if the product is very hot, naturally you will have more competition to sell it. The blueprint represents the quality of the information registered by the product creator. So, the more relevant and detailed the information about the product, the larger the blueprint will be. Products with a high blueprint tend to provide good promotional materials for affiliates and a greater proportion between the commission per sale and the final price. \n"
     ]
    }
   ],
   "source": [
    "# print(google_trad_concat)"
   ]
  },
  {
   "cell_type": "markdown",
   "metadata": {},
   "source": [
    "# Llama"
   ]
  },
  {
   "cell_type": "markdown",
   "metadata": {},
   "source": [
    "## Teste 1"
   ]
  },
  {
   "cell_type": "code",
   "execution_count": 5,
   "metadata": {},
   "outputs": [],
   "source": [
    "from langchain_community.llms import Ollama\n",
    "from langchain import PromptTemplate\n",
    "from langchain.pydantic_v1 import BaseModel, Field\n",
    "from langchain.output_parsers import PydanticOutputParser\n",
    "\n",
    "llm = Ollama(model=\"llama2\")"
   ]
  },
  {
   "cell_type": "code",
   "execution_count": 6,
   "metadata": {},
   "outputs": [
    {
     "data": {
      "text/plain": [
       "'Hello! I\\'m just an AI, I don\\'t have feelings or emotions like a human would, so I can\\'t really \"feel\" or \"be\" in the way that humans do. However, I\\'m here to help answer any questions you may have, so feel free to ask me anything!'"
      ]
     },
     "execution_count": 6,
     "metadata": {},
     "output_type": "execute_result"
    }
   ],
   "source": [
    "llm.invoke(\"hi! how are you?\")"
   ]
  },
  {
   "cell_type": "code",
   "execution_count": 85,
   "metadata": {},
   "outputs": [
    {
     "name": "stdout",
     "output_type": "stream",
     "text": [
      "Hey! Everything okay with you?\n"
     ]
    }
   ],
   "source": [
    "from langchain.output_parsers.json import SimpleJsonOutputParser\n",
    "\n",
    "text = \"Oi! Tudo bem contigo?\"\n",
    "\n",
    "template = \"\"\"\n",
    "Translate this Portuguese sentence into English.\n",
    "\n",
    "Context: Please, consider that the expression 'beleza?' should be translated as 'okay?' or 'alright?'.\n",
    "Also, avoid to translate names and places. Finally, just output the translated text.\n",
    "\n",
    "Input text: {query}\n",
    "\n",
    "Translated text: \"\"\"\n",
    "\n",
    "\n",
    "class TranslateRequest(BaseModel):\n",
    "    original_text: str = Field(description=\"The text to be translated\")\n",
    "    translated_text: str = Field(description=\"The translated text\")\n",
    "\n",
    "parser = PydanticOutputParser(pydantic_object=TranslateRequest)\n",
    "json_parser = SimpleJsonOutputParser()\n",
    "prompt_template = PromptTemplate(\n",
    "    input_variables=[\"query\"],\n",
    "    template=template,\n",
    "    partial_variables={\"format_instructions\": parser.get_format_instructions()},\n",
    ")\n",
    "\n",
    "#json_chain = prompt_template | llm | json_parser\n",
    "\n",
    "prompt_and_model = prompt_template | llm\n",
    "output = prompt_and_model.invoke({\"query\": text})\n",
    "\n",
    "print(output)\n"
   ]
  },
  {
   "cell_type": "code",
   "execution_count": 87,
   "metadata": {},
   "outputs": [],
   "source": [
    "translated_chunks = []\n",
    "for chunk in data[\"chunks\"]:\n",
    "    translated_chunck = dict(\n",
    "        timestamp=chunk[\"timestamp\"],\n",
    "        text=prompt_and_model.invoke({\"query\": chunk[\"text\"]})#translator(chunk[\"text\"])[0][\"translation_text\"]\n",
    "    )\n",
    "\n",
    "    translated_chunks.append(translated_chunck)\n",
    "\n",
    "translated_data = dict(\n",
    "    text = \"\",#translator(data[\"text\"])[0][\"translation_text\"],\n",
    "    chunks = translated_chunks\n",
    ")"
   ]
  },
  {
   "cell_type": "code",
   "execution_count": 88,
   "metadata": {},
   "outputs": [
    {
     "data": {
      "text/plain": [
       "{'text': '',\n",
       " 'chunks': [{'timestamp': [0.0, 2.42],\n",
       "   'text': \"Sure! Here's the translation of the Portuguese sentence into English:\\n\\nDo you want to make money online?\"},\n",
       "  {'timestamp': [3.12, 5.7],\n",
       "   'text': \"Okay! Here's the translation of the Portuguese sentence into English:\\n\\nYou have two ways to do this on Hotmart.\"},\n",
       "  {'timestamp': [6.2, 7.94],\n",
       "   'text': 'Sure! Here\\'s the translation of the Portuguese sentence into English:\\n\\n\"Or like a producer, or like an affiliate.\"'},\n",
       "  {'timestamp': [8.6, 13.78],\n",
       "   'text': \"Okay! Today we're going to show you the step-by-step process for you to make your first sale as an affiliate on Hotmart.\"},\n",
       "  {'timestamp': [14.28, 14.92],\n",
       "   'text': 'Sure! Here\\'s the translation of \"Vamos lá?\" into English:\\n\\n\"Okay?\"'},\n",
       "  {'timestamp': [15.46, 19.42],\n",
       "   'text': 'Okay, got it! Here\\'s the translation of the Portuguese sentence into English:\\n\\n\"Affiliates are those people who work promoting online courses created by others.\"'},\n",
       "  {'timestamp': [19.42, 22.12],\n",
       "   'text': 'Sure! Here is the translation of the Portuguese sentence into English:\\n\\n\"And receiving a commission for each sale made.\"'},\n",
       "  {'timestamp': [22.78, 25.1],\n",
       "   'text': 'Most products on Hotmart accept affiliates.'},\n",
       "  {'timestamp': [25.58, 27.16],\n",
       "   'text': 'To become a successful affiliate, you need to:\\n\\nPra conseguir ser um afiliado de sucesso,'},\n",
       "  {'timestamp': [0.0, 4.2],\n",
       "   'text': 'Sure, here is the translation of the Portuguese sentence into English:\\n\\n\"I need to follow some basic steps and pay attention to several details.\"'},\n",
       "  {'timestamp': [4.2, 9.4],\n",
       "   'text': 'Sure, I\\'d be happy to help! Here\\'s the translation of the Portuguese sentence into English:\\n\\n\"Also, it takes a lot of work and the consciousness that this activity doesn\\'t bear fruit at night until day.\"'},\n",
       "  {'timestamp': [9.4, 12.38],\n",
       "   'text': 'First thing to do is to register on Hotmart'},\n",
       "  {'timestamp': [12.38, 15.36],\n",
       "   'text': 'Okay! So what you need to do is click here to register.'},\n",
       "  {'timestamp': [15.36, 18.18],\n",
       "   'text': 'Okay, got it! Here\\'s the translation of the Portuguese sentence into English:\\n\\n\"And there you go opening our screen for Hotmart\\'s registration.\"'},\n",
       "  {'timestamp': [18.18, 21.78],\n",
       "   'text': 'Sure! Here is the translation of the Portuguese sentence into English:\\n\\n\"Do you have the option to sign up or log in with your Facebook account?\"'},\n",
       "  {'timestamp': [21.78, 24.76],\n",
       "   'text': 'Okay, no problem! Here is the translation of the Portuguese sentence:\\n\\n\"Or then you register your name here?\"'},\n",
       "  {'timestamp': [24.76, 26.98],\n",
       "   'text': 'Sure! Here\\'s the translation of the Portuguese sentence into English:\\n\\n\"Okay, so you want me to put my name and email?\"'},\n",
       "  {'timestamp': [0.0, 3.24],\n",
       "   'text': 'Sure! Here is the translation of the Portuguese sentence into English:\\n\\n\"Okay, below you choose a password.\"'},\n",
       "  {'timestamp': [3.84, 4.16], 'text': 'Okay?'},\n",
       "  {'timestamp': [4.54, 6.26],\n",
       "   'text': \"Sure! Here's the translation of the Portuguese sentence into English:\\n\\nClick here to continue and ready!\"},\n",
       "  {'timestamp': [7.34, 10.38],\n",
       "   'text': 'Okay, got it! Here\\'s the translation of the Portuguese sentence into English:\\n\\n\"Hey, when you enter the platform, you click here on the market section.\"'},\n",
       "  {'timestamp': [11.06, 14.06],\n",
       "   'text': 'Sure! Here\\'s the translation of the Portuguese sentence into English:\\n\\n\"Here you\\'ll see all the courses available on the Hotmart platform.\"'},\n",
       "  {'timestamp': [14.72, 17.56],\n",
       "   'text': 'Between the courses that accept affiliations, there are two types.'},\n",
       "  {'timestamp': [18.04, 23.18],\n",
       "   'text': '\"The open courses, that is, anyone can join and start selling.\"'},\n",
       "  {'timestamp': [23.76, 25.44],\n",
       "   'text': 'Sure! Here is the translation of the Portuguese sentence \"Ou os cursos com afiliação moderada\" into English:\\n\\n\"Or the courses with moderate affiliation.\"'},\n",
       "  {'timestamp': [26.08, 29.0],\n",
       "   'text': 'Sure! Here\\'s the translation of the Portuguese sentence into English:\\n\\n\"In moderated affiliation, you need to apply for membership.\"'},\n",
       "  {'timestamp': [0.0, 2.42],\n",
       "   'text': 'Okay, no problem! Here\\'s the translation of the Portuguese sentence into English:\\n\\n\"And the producer can or not accept.\"'},\n",
       "  {'timestamp': [2.9, 6.38],\n",
       "   'text': 'Sure! Here\\'s the translation of the Portuguese sentence into English:\\n\\n\"The second thing to do is to define which niche in the market you will work.\"'},\n",
       "  {'timestamp': [7.12, 10.5],\n",
       "   'text': 'Sure! Here is the translation of the Portuguese sentence into English:\\n\\n\"Choose courses on a topic you\\'re good at or have knowledge about.\"'},\n",
       "  {'timestamp': [10.94, 12.1], 'text': 'Same here, just a little bit only.'},\n",
       "  {'timestamp': [12.48, 15.84],\n",
       "   'text': 'Is that important for you to create content and promotional materials?'},\n",
       "  {'timestamp': [15.84, 18.42],\n",
       "   'text': 'Sure, here is the translation of the Portuguese sentence into English:\\n\\n\"About the matters of interest to potential buyers.\"'},\n",
       "  {'timestamp': [18.92, 23.78],\n",
       "   'text': 'Sure! Here\\'s the translation of the Portuguese sentence into English:\\n\\n\"After that, you\\'re going to search on the Hotmart platform which courses are worth joining.\"'},\n",
       "  {'timestamp': [23.78, 26.92],\n",
       "   'text': 'Sure! Here\\'s the translation of the Portuguese sentence into English:\\n\\n\"For that, you need to analyze five factors.\"'},\n",
       "  {'timestamp': [0.0, 7.34],\n",
       "   'text': 'Okay, here\\'s the translation of the Portuguese sentence into English:\\n\\n\"Temperature, blueprint, satisfaction, value of the sales commission and the form of completion.\"'},\n",
       "  {'timestamp': [7.78, 10.12],\n",
       "   'text': 'Sure! Here\\'s the translation of the Portuguese sentence:\\n\\n\"I\\'m going to explain each of these factors now, one by one.\"'},\n",
       "  {'timestamp': [10.66, 14.04],\n",
       "   'text': 'Sure, here\\'s the translation of the Portuguese sentence into English:\\n\\n\"Okay, I\\'m going to enter here and click on this wine course, Salud, is everything okay?\"'},\n",
       "  {'timestamp': [15.14, 17.9],\n",
       "   'text': 'Satisfaction is the evaluation of the course according to who has already bought it.'},\n",
       "  {'timestamp': [18.46, 21.52],\n",
       "   'text': 'If you enroll in courses with high satisfaction rates,'},\n",
       "  {'timestamp': [22.56, 25.68],\n",
       "   'text': 'Okay, I\\'d be happy to help you with that! Here\\'s the translation of the Portuguese sentence into English:\\n\\n\"Minors are the chances of having customers unsatisfied with the product you sold.\"'},\n",
       "  {'timestamp': [0.0, 10.74],\n",
       "   'text': 'So a product with high satisfaction rates is less likely to have a refund request than products with low satisfaction rates, meaning they are undervalued by their buyers.'},\n",
       "  {'timestamp': [11.18, 15.16],\n",
       "   'text': 'Okay, no problem! Here\\'s the translation of the Portuguese sentence into English:\\n\\n\"The temperature is an index of Hotmart, okay?\"'},\n",
       "  {'timestamp': [15.72, 24.78],\n",
       "   'text': 'Okay, got it! Here\\'s the translation of the Portuguese sentence into English:\\n\\n\"So, does that mean we\\'re going to evaluate everything this product has good and bad points from a numerical perspective?\"'},\n",
       "  {'timestamp': [25.22, 28.2],\n",
       "   'text': 'Sure, here\\'s the translation of the Portuguese sentence into English:\\n\\n\"Okay, so we can put him higher or lower in the market?\"'},\n",
       "  {'timestamp': [0.0, 6.6],\n",
       "   'text': 'Sure, here\\'s the translation of the Portuguese sentence into English:\\n\\n\"Okay, so if the product is selling well, has a lot of sales, and many affiliates are making sales, ...\"'},\n",
       "  {'timestamp': [7.08, 11.6],\n",
       "   'text': 'Okay, no problem! Here\\'s the translation of the Portuguese sentence into English:\\n\\n\"Low return, low chargeback, therefore he will be hotter.\"'},\n",
       "  {'timestamp': [11.9, 15.56],\n",
       "   'text': 'Okay, no problem! Here\\'s the translation of the Portuguese sentence into English:\\n\\n\"Now this doesn\\'t mean that the product that\\'s colder is bad.\"'},\n",
       "  {'timestamp': [16.0, 19.82],\n",
       "   'text': 'Sure! Here\\'s the translation of the Portuguese sentence into English:\\n\\n\"Is he a product that suddenly hasn\\'t been noticed yet, but is well-noticed by people?\"'},\n",
       "  {'timestamp': [20.56, 27.68],\n",
       "   'text': '\"Or why is it a product that suddenly the producer hasn\\'t put much effort into selling?\"'},\n",
       "  {'timestamp': [0.54, 5.9],\n",
       "   'text': 'Sure! Here\\'s the translation of the Portuguese sentence into English:\\n\\n\"Okay, so the temperature indicates how this product is being evaluated by the market at this moment?\"'},\n",
       "  {'timestamp': [6.02, 10.04],\n",
       "   'text': 'Sure, I\\'d be happy to help! Here is the translation of the Portuguese sentence into English:\\n\\n\"But that doesn\\'t mean you don\\'t have good opportunities with a product at a low temperature.\"'},\n",
       "  {'timestamp': [10.48, 15.52],\n",
       "   'text': 'Of course, products that are hotter tend to attract more affiliates.'},\n",
       "  {'timestamp': [15.94, 18.8],\n",
       "   'text': 'Okay, so the more hotter, the more affiliated.'},\n",
       "  {'timestamp': [18.8, 26.02],\n",
       "   'text': 'Okay, got it! Here\\'s the translation of the Portuguese sentence into English:\\n\\n\"Already, one of our customers left their affiliation open on a hotter day and is now in a better location.\"'},\n",
       "  {'timestamp': [26.1, 28.14],\n",
       "   'text': 'He had 3 million affiliates in one day.'},\n",
       "  {'timestamp': [0.54, 4.88],\n",
       "   'text': \"Okay, so imagine if the product is too hot, naturally you're going to have more competition to sell it.\"},\n",
       "  {'timestamp': [5.48, 9.72],\n",
       "   'text': 'The blueprint represents the quality of the information cataloged by the product creator.\\n\\nOkay, here is the translation of the Portuguese sentence into English:\\n\\nThe blueprint represents the quality of the information cataloged by the product creator.'},\n",
       "  {'timestamp': [9.72, 15.22],\n",
       "   'text': 'Okay, so the more relevant and detailed information about the product, the better the blueprint will be.'},\n",
       "  {'timestamp': [15.8, 20.48],\n",
       "   'text': '\"Products with high blueprint tend to provide good marketing materials for affiliates.\"\\n\\nIn this case, \"beleza?\" can be translated as \"okay?\" or \"alright?\", and the sentence is indicating that products with a high level of detail or quality in their marketing materials are more likely to provide what affiliates need.'},\n",
       "  {'timestamp': [20.48, 25.0],\n",
       "   'text': 'Sure! Here\\'s the translation of the Portuguese sentence into English:\\n\\n\"And there\\'s a larger commission for sale compared to the final price.\"'}]}"
      ]
     },
     "execution_count": 88,
     "metadata": {},
     "output_type": "execute_result"
    }
   ],
   "source": [
    "translated_data"
   ]
  },
  {
   "cell_type": "markdown",
   "metadata": {},
   "source": [
    "## Teste 2"
   ]
  },
  {
   "cell_type": "code",
   "execution_count": 13,
   "metadata": {},
   "outputs": [
    {
     "name": "stderr",
     "output_type": "stream",
     "text": [
      "/Users/danieloliveiradebrito/Projetos/desafio-hotmart/.venv/lib/python3.10/site-packages/langchain_core/_api/deprecation.py:117: LangChainDeprecationWarning: The function `run` was deprecated in LangChain 0.1.0 and will be removed in 0.2.0. Use invoke instead.\n",
      "  warn_deprecated(\n"
     ]
    },
    {
     "data": {
      "text/plain": [
       "'Sure! Here is the translation of the Portuguese sentence into English:\\n\\n\"Do you want to make money online?\"'"
      ]
     },
     "execution_count": 13,
     "metadata": {},
     "output_type": "execute_result"
    }
   ],
   "source": [
    "from langchain import LLMChain\n",
    "from langchain_core.messages import SystemMessage\n",
    "from langchain.prompts.chat import HumanMessagePromptTemplate, ChatPromptTemplate\n",
    "\n",
    "template_messages = [\n",
    "    SystemMessage(content=\"Translate this Portuguese sentence into English.\"),\n",
    "    SystemMessage(content=\"Please, consider that the expression 'beleza?' should be translated as 'okay?' or 'alright?'.\"),\n",
    "    SystemMessage(content=\"Also, avoid to translate names and places. Finally, just output the translated text.\"),\n",
    "    HumanMessagePromptTemplate.from_template(\"{text}\")\n",
    "]\n",
    "\n",
    "chat_prompt = ChatPromptTemplate.from_messages(template_messages)\n",
    "chain = LLMChain(llm = llm, prompt=chat_prompt)\n",
    "chain.run(text = data[\"chunks\"][0][\"text\"])\n",
    "\n"
   ]
  },
  {
   "cell_type": "markdown",
   "metadata": {},
   "source": [
    "# ChatGPT"
   ]
  },
  {
   "cell_type": "code",
   "execution_count": 14,
   "metadata": {},
   "outputs": [],
   "source": [
    "from openai import OpenAI\n",
    "import os\n",
    "from dotenv import load_dotenv\n",
    "\n",
    "load_dotenv()\n",
    "client = OpenAI(api_key=os.environ.get(\"OPENAI_API_KEY\"))\n",
    "\n"
   ]
  },
  {
   "cell_type": "code",
   "execution_count": 16,
   "metadata": {},
   "outputs": [],
   "source": [
    "text = \"Oi! Tudo bem contigo?\"\n",
    "\n",
    "response = client.chat.completions.create(\n",
    "    model=\"gpt-3.5-turbo\",\n",
    "    messages=[{\n",
    "        \"role\": \"system\",\n",
    "        \"content\": \"Translate this Portuguese sentence into English. Please, consider that the expression 'beleza?' should be translated as 'okay?' or 'alright?'. Also, avoid to translate names and places.\",\n",
    "    },\n",
    "    {\n",
    "        \"role\": \"user\",\n",
    "        \"content\": text\n",
    "    }],\n",
    "    temperature=.5,\n",
    "    \n",
    ")"
   ]
  },
  {
   "cell_type": "code",
   "execution_count": 28,
   "metadata": {},
   "outputs": [
    {
     "data": {
      "text/plain": [
       "'Hi! Are you okay?'"
      ]
     },
     "execution_count": 28,
     "metadata": {},
     "output_type": "execute_result"
    }
   ],
   "source": [
    "response.model_dump()[\"choices\"][0][\"message\"][\"content\"]"
   ]
  },
  {
   "cell_type": "code",
   "execution_count": 37,
   "metadata": {},
   "outputs": [],
   "source": [
    "translated_chunks = []\n",
    "for chunk in data[\"chunks\"]:\n",
    "\n",
    "    response = client.chat.completions.create(\n",
    "        model=\"gpt-3.5-turbo\",\n",
    "        messages=[{\n",
    "            \"role\": \"system\",\n",
    "            \"content\": \"\"\"\n",
    "Translate this Portuguese sentence into English.\n",
    "Please, do not translate names, brands and places, keeping them in the translated text.\n",
    "Do not insert any new information.\n",
    "If you see the isolated word 'Beleza?', consider translating it as 'Okay?' or 'Alright?'.\"\"\",\n",
    "        },\n",
    "        {\n",
    "            \"role\": \"user\",\n",
    "            \"content\": chunk[\"text\"]\n",
    "        }],\n",
    "        temperature=.2,\n",
    "        \n",
    "    )\n",
    "    translated_chunck = dict(\n",
    "        timestamp=chunk[\"timestamp\"],\n",
    "        text=response.model_dump()[\"choices\"][0][\"message\"][\"content\"]#translator(chunk[\"text\"])[0][\"translation_text\"]\n",
    "    )\n",
    "\n",
    "    translated_chunks.append(translated_chunck)\n",
    "\n",
    "translated_data = dict(\n",
    "    text = \"\",#translator(data[\"text\"])[0][\"translation_text\"],\n",
    "    chunks = translated_chunks\n",
    ")"
   ]
  },
  {
   "cell_type": "code",
   "execution_count": 38,
   "metadata": {},
   "outputs": [
    {
     "data": {
      "text/plain": [
       "{'text': '',\n",
       " 'chunks': [{'timestamp': [0.0, 2.42],\n",
       "   'text': 'Do you want to make money working online?'},\n",
       "  {'timestamp': [3.12, 5.7],\n",
       "   'text': 'Through Hotmart you have two ways to do this.'},\n",
       "  {'timestamp': [6.2, 7.94],\n",
       "   'text': 'Either as a producer, or as an affiliate.'},\n",
       "  {'timestamp': [8.6, 13.78],\n",
       "   'text': 'Today we are going to show you step by step how to make your first sale as an affiliate on Hotmart.'},\n",
       "  {'timestamp': [14.28, 14.92], 'text': \"Let's go?\"},\n",
       "  {'timestamp': [15.46, 19.42],\n",
       "   'text': 'Affiliates are those people who work promoting online courses from other people.'},\n",
       "  {'timestamp': [19.42, 22.12],\n",
       "   'text': 'and receiving a commission for each sale made.'},\n",
       "  {'timestamp': [22.78, 25.1],\n",
       "   'text': 'Most products on Hotmart accept affiliates.'},\n",
       "  {'timestamp': [25.58, 27.16], 'text': 'To become a successful affiliate,'},\n",
       "  {'timestamp': [0.0, 4.2],\n",
       "   'text': 'I need to follow some basic steps and pay attention to various details.'},\n",
       "  {'timestamp': [4.2, 9.4],\n",
       "   'text': 'It also requires a lot of work and the awareness that this activity does not bear fruit overnight.'},\n",
       "  {'timestamp': [9.4, 12.38],\n",
       "   'text': 'The first thing to do is to register on Hotmart.'},\n",
       "  {'timestamp': [12.38, 15.36],\n",
       "   'text': 'So what you need to do is click here on sign up.'},\n",
       "  {'timestamp': [15.36, 18.18],\n",
       "   'text': 'And then it will open our Hotmart registration screen.'},\n",
       "  {'timestamp': [18.18, 21.78],\n",
       "   'text': 'You have the option to register with your Facebook account.'},\n",
       "  {'timestamp': [21.78, 24.76], 'text': 'Or you can register your name here.'},\n",
       "  {'timestamp': [24.76, 26.98], 'text': 'So you enter your name, your email.'},\n",
       "  {'timestamp': [0.0, 3.24], 'text': 'and below you choose a password.'},\n",
       "  {'timestamp': [3.84, 4.16], 'text': 'Alright?'},\n",
       "  {'timestamp': [4.54, 6.26], 'text': \"Click on continue and you're done.\"},\n",
       "  {'timestamp': [7.34, 10.38],\n",
       "   'text': 'So, when you enter the platform, you click here on the market section.'},\n",
       "  {'timestamp': [11.06, 14.06],\n",
       "   'text': 'Here you will see all the courses available on the Hotmart platform.'},\n",
       "  {'timestamp': [14.72, 17.56],\n",
       "   'text': 'Among the courses that accept affiliations, there are two types.'},\n",
       "  {'timestamp': [18.04, 23.18],\n",
       "   'text': 'The open affiliate courses, that is, anyone can affiliate and start selling.'},\n",
       "  {'timestamp': [23.76, 25.44],\n",
       "   'text': 'Or the courses with moderate affiliation.'},\n",
       "  {'timestamp': [26.08, 29.0],\n",
       "   'text': 'In the moderate affiliation, you need to request your affiliation.'},\n",
       "  {'timestamp': [0.0, 2.42],\n",
       "   'text': 'and the producer may or may not accept.'},\n",
       "  {'timestamp': [2.9, 6.38],\n",
       "   'text': 'The second thing to do is to define which market niche you will work with.'},\n",
       "  {'timestamp': [7.12, 10.5],\n",
       "   'text': 'Choose courses on a subject that you master, that you have knowledge of,'},\n",
       "  {'timestamp': [10.94, 12.1], 'text': 'even if just a little.'},\n",
       "  {'timestamp': [12.48, 15.84],\n",
       "   'text': 'This is important for you to be able to create content and promotional materials.'},\n",
       "  {'timestamp': [15.84, 18.42],\n",
       "   'text': 'about the subjects of interest of potential buyers.'},\n",
       "  {'timestamp': [18.92, 23.78],\n",
       "   'text': 'After that, you will research on the Hotmart platform which courses are worth affiliating with.'},\n",
       "  {'timestamp': [23.78, 26.92],\n",
       "   'text': 'For that, you need to analyze five factors.'},\n",
       "  {'timestamp': [0.0, 7.34],\n",
       "   'text': 'Temperature, Blueprint, Satisfaction, Commission Value per Sale, and Commissioning Method.'},\n",
       "  {'timestamp': [7.78, 10.12],\n",
       "   'text': 'I will explain each of these factors now, one by one.'},\n",
       "  {'timestamp': [10.66, 14.04],\n",
       "   'text': \"So I'm going to enter here and click on the wine course, okay?\"},\n",
       "  {'timestamp': [15.14, 17.9],\n",
       "   'text': 'Satisfaction is the evaluation of the course according to those who have already purchased it.'},\n",
       "  {'timestamp': [18.46, 21.52],\n",
       "   'text': 'If you affiliate yourself with courses with a high satisfaction rate,'},\n",
       "  {'timestamp': [22.56, 25.68],\n",
       "   'text': 'The lower the chances of having unsatisfied customers with the product you sold.'},\n",
       "  {'timestamp': [0.0, 10.74],\n",
       "   'text': 'So a product with high satisfaction is much less likely to have a refund request than products with low satisfaction, in other words, they are poorly rated by their buyers.'},\n",
       "  {'timestamp': [11.18, 15.16],\n",
       "   'text': 'The temperature is an index of Hotmart, okay?'},\n",
       "  {'timestamp': [15.72, 24.78],\n",
       "   'text': 'So it means that we will evaluate all the good and bad things that product has from a numerical point of view, okay?'},\n",
       "  {'timestamp': [25.22, 28.2],\n",
       "   'text': 'so that we can position it higher or lower in the market.'},\n",
       "  {'timestamp': [0.0, 6.6],\n",
       "   'text': 'That is, if the product has high sales, is open for affiliation, has many affiliates, and many sales per affiliate,'},\n",
       "  {'timestamp': [7.08, 11.6],\n",
       "   'text': 'Low refund, low chargeback, consequently it will be hotter.'},\n",
       "  {'timestamp': [11.9, 15.56],\n",
       "   'text': \"Now, this doesn't mean that the product that is colder is a bad product.\"},\n",
       "  {'timestamp': [16.0, 19.82],\n",
       "   'text': 'It means that it is a product that perhaps has not been noticed, well noticed by people yet, okay?'},\n",
       "  {'timestamp': [20.56, 27.68],\n",
       "   'text': 'Or because it is a product that the producer has not put much effort into selling yet.'},\n",
       "  {'timestamp': [0.54, 5.9],\n",
       "   'text': 'So, the temperature indicates how this product is being evaluated by the market at that moment, okay?'},\n",
       "  {'timestamp': [6.02, 10.04],\n",
       "   'text': \"but that doesn't mean you won't have good opportunities with a product at a low temperature.\"},\n",
       "  {'timestamp': [10.48, 15.52],\n",
       "   'text': 'And, naturally, products that are hotter tend to attract more affiliates.'},\n",
       "  {'timestamp': [15.94, 18.8], 'text': 'So, the hotter, the more affiliated.'},\n",
       "  {'timestamp': [18.8, 26.02],\n",
       "   'text': 'One of our clients once left the window open on a hot day.'},\n",
       "  {'timestamp': [26.1, 28.14],\n",
       "   'text': 'He had 3 thousand affiliates in one day.'},\n",
       "  {'timestamp': [0.54, 4.88],\n",
       "   'text': 'So, imagine that if the product is very hot, naturally you will have more competition to sell it.'},\n",
       "  {'timestamp': [5.48, 9.72],\n",
       "   'text': 'The blueprint represents the quality of the information registered by the product creator.'},\n",
       "  {'timestamp': [9.72, 15.22],\n",
       "   'text': 'So, the more relevant and detailed the information about the product, the larger the blueprint will be.'},\n",
       "  {'timestamp': [15.8, 20.48],\n",
       "   'text': 'Products with high blueprints tend to provide good promotional materials for affiliates.'},\n",
       "  {'timestamp': [20.48, 25.0],\n",
       "   'text': 'and a higher proportion between the commission per sale and the final price.'}]}"
      ]
     },
     "execution_count": 38,
     "metadata": {},
     "output_type": "execute_result"
    }
   ],
   "source": [
    "translated_data"
   ]
  },
  {
   "cell_type": "code",
   "execution_count": 31,
   "metadata": {},
   "outputs": [],
   "source": [
    "translated_chunks = []\n",
    "for chunk in data[\"chunks\"]:\n",
    "\n",
    "    response = client.chat.completions.create(\n",
    "        model=\"gpt-3.5-turbo\",\n",
    "        messages=[{\n",
    "            \"role\": \"system\",\n",
    "            \"content\": \"Translate this Portuguese sentence into English. Avoid to translate names and places.\",\n",
    "        },\n",
    "        {\n",
    "            \"role\": \"user\",\n",
    "            \"content\": chunk[\"text\"]\n",
    "        }],\n",
    "        temperature=.5,\n",
    "        \n",
    "    )\n",
    "    translated_chunck = dict(\n",
    "        timestamp=chunk[\"timestamp\"],\n",
    "        text=response.model_dump()[\"choices\"][0][\"message\"][\"content\"]#translator(chunk[\"text\"])[0][\"translation_text\"]\n",
    "    )\n",
    "\n",
    "    translated_chunks.append(translated_chunck)\n",
    "\n",
    "translated_data = dict(\n",
    "    text = \"\",#translator(data[\"text\"])[0][\"translation_text\"],\n",
    "    chunks = translated_chunks\n",
    ")"
   ]
  },
  {
   "cell_type": "code",
   "execution_count": 32,
   "metadata": {},
   "outputs": [
    {
     "data": {
      "text/plain": [
       "{'text': '',\n",
       " 'chunks': [{'timestamp': [0.0, 2.42],\n",
       "   'text': 'Do you want to make money working on the internet?'},\n",
       "  {'timestamp': [3.12, 5.7],\n",
       "   'text': 'Through Hotmart you have two ways of doing this.'},\n",
       "  {'timestamp': [6.2, 7.94],\n",
       "   'text': 'Either as a producer or as an affiliate.'},\n",
       "  {'timestamp': [8.6, 13.78],\n",
       "   'text': 'Today we are going to show you step by step how to make your first sale as an affiliate on Hotmart.'},\n",
       "  {'timestamp': [14.28, 14.92], 'text': 'Shall we go?'},\n",
       "  {'timestamp': [15.46, 19.42],\n",
       "   'text': 'Affiliates are those people who work promoting online courses from others.'},\n",
       "  {'timestamp': [19.42, 22.12],\n",
       "   'text': 'and receiving a commission for each sale made.'},\n",
       "  {'timestamp': [22.78, 25.1],\n",
       "   'text': 'Most products on Hotmart accept affiliates.'},\n",
       "  {'timestamp': [25.58, 27.16], 'text': 'To become a successful affiliate,'},\n",
       "  {'timestamp': [0.0, 4.2],\n",
       "   'text': 'I need to follow some basic steps and pay attention to several details.'},\n",
       "  {'timestamp': [4.2, 9.4],\n",
       "   'text': 'It also requires a lot of work and the awareness that this activity does not bear fruit overnight.'},\n",
       "  {'timestamp': [9.4, 12.38],\n",
       "   'text': 'The first thing to do is to sign up on Hotmart.'},\n",
       "  {'timestamp': [12.38, 15.36],\n",
       "   'text': 'So what you need to do is click here on sign up.'},\n",
       "  {'timestamp': [15.36, 18.18],\n",
       "   'text': 'And then it will open our Hotmart registration screen.'},\n",
       "  {'timestamp': [18.18, 21.78],\n",
       "   'text': 'You have the option to sign up either with your account or with your Facebook account.'},\n",
       "  {'timestamp': [21.78, 24.76], 'text': 'Or you can register your name here.'},\n",
       "  {'timestamp': [24.76, 26.98], 'text': 'So you enter your name, your email'},\n",
       "  {'timestamp': [0.0, 3.24], 'text': 'And below you choose a password.'},\n",
       "  {'timestamp': [3.84, 4.16], 'text': 'Are you alright?'},\n",
       "  {'timestamp': [4.54, 6.26], 'text': \"Click on continue and you're done.\"},\n",
       "  {'timestamp': [7.34, 10.38],\n",
       "   'text': 'Hey, when you enter the platform, you click here on the market section.'},\n",
       "  {'timestamp': [11.06, 14.06],\n",
       "   'text': 'Here you will see all the courses available on the Hotmart platform.'},\n",
       "  {'timestamp': [14.72, 17.56],\n",
       "   'text': 'Among the courses that accept affiliations, there are two types.'},\n",
       "  {'timestamp': [18.04, 23.18],\n",
       "   'text': 'The open enrollment courses, meaning anyone can enroll and start selling.'},\n",
       "  {'timestamp': [23.76, 25.44],\n",
       "   'text': 'Or the courses with moderate affiliation.'},\n",
       "  {'timestamp': [26.08, 29.0],\n",
       "   'text': 'In the moderate affiliation, you need to request your affiliation.'},\n",
       "  {'timestamp': [0.0, 2.42],\n",
       "   'text': 'And the producer may or may not accept.'},\n",
       "  {'timestamp': [2.9, 6.38],\n",
       "   'text': 'The second thing to do is to define which market niche you will work in.'},\n",
       "  {'timestamp': [7.12, 10.5],\n",
       "   'text': 'Choose courses on a subject that you master, that you have knowledge of.'},\n",
       "  {'timestamp': [10.94, 12.1], 'text': 'Even if just a little bit.'},\n",
       "  {'timestamp': [12.48, 15.84],\n",
       "   'text': 'This is important for you to be able to create content and promotional materials.'},\n",
       "  {'timestamp': [15.84, 18.42],\n",
       "   'text': 'about the subjects of interest of potential buyers.'},\n",
       "  {'timestamp': [18.92, 23.78],\n",
       "   'text': 'After that, you will research on the Hotmart platform which courses are worth affiliating with.'},\n",
       "  {'timestamp': [23.78, 26.92],\n",
       "   'text': 'For that, you need to analyze five factors.'},\n",
       "  {'timestamp': [0.0, 7.34],\n",
       "   'text': 'Temperature, Blueprint, Satisfaction, Commission Value per Sale, and Commissioning Method.'},\n",
       "  {'timestamp': [7.78, 10.12],\n",
       "   'text': 'I will explain each of these factors now, one by one.'},\n",
       "  {'timestamp': [10.66, 14.04],\n",
       "   'text': \"So I'll enter here and click on the wine course, cheers, okay?\"},\n",
       "  {'timestamp': [15.14, 17.9],\n",
       "   'text': 'Satisfaction is the evaluation of the course according to those who have already purchased it.'},\n",
       "  {'timestamp': [18.46, 21.52],\n",
       "   'text': 'If you join the courses with a high satisfaction rate,'},\n",
       "  {'timestamp': [22.56, 25.68],\n",
       "   'text': 'The chances of having dissatisfied customers with the product you sold are lower.'},\n",
       "  {'timestamp': [0.0, 10.74],\n",
       "   'text': 'So a product with high satisfaction is much less likely to have a refund request than products with low satisfaction, in other words, those that are poorly rated by their buyers.'},\n",
       "  {'timestamp': [11.18, 15.16],\n",
       "   'text': 'The temperature is an index of Hotmart, okay?'},\n",
       "  {'timestamp': [15.72, 24.78],\n",
       "   'text': 'So it means that we will evaluate all the good and bad aspects of that product from a numerical point of view.'},\n",
       "  {'timestamp': [25.22, 28.2],\n",
       "   'text': 'so we can put it higher or lower in the market.'},\n",
       "  {'timestamp': [0.0, 6.6],\n",
       "   'text': 'That is, if the product has high sales, is open for affiliation, has many affiliates, and many sales per affiliate,'},\n",
       "  {'timestamp': [7.08, 11.6],\n",
       "   'text': 'Low refund, low chargeback, consequently it will be hotter.'},\n",
       "  {'timestamp': [11.9, 15.56],\n",
       "   'text': \"Now, this doesn't mean that the product that is colder is a bad product.\"},\n",
       "  {'timestamp': [16.0, 19.82],\n",
       "   'text': 'It means that it is a product that has not yet been noticed, well noticed by people.'},\n",
       "  {'timestamp': [20.56, 27.68],\n",
       "   'text': 'Or because it is a product that the producer has not yet put much sales effort into.'},\n",
       "  {'timestamp': [0.54, 5.9],\n",
       "   'text': 'So, the temperature indicates how this product is being evaluated by the market at that moment.'},\n",
       "  {'timestamp': [6.02, 10.04],\n",
       "   'text': \"but it doesn't mean that you won't have good opportunities with a product with low temperature.\"},\n",
       "  {'timestamp': [10.48, 15.52],\n",
       "   'text': 'And, naturally, products that are more popular tend to attract more affiliates.'},\n",
       "  {'timestamp': [15.94, 18.8], 'text': 'So, the hotter, the more affiliated.'},\n",
       "  {'timestamp': [18.8, 26.02],\n",
       "   'text': 'One of our clients once left the window open on a hot day.'},\n",
       "  {'timestamp': [26.1, 28.14],\n",
       "   'text': 'He had 3 thousand affiliates in one day.'},\n",
       "  {'timestamp': [0.54, 4.88],\n",
       "   'text': 'So, imagine that if the product is very hot, naturally you will have more competition to sell it.'},\n",
       "  {'timestamp': [5.48, 9.72],\n",
       "   'text': 'The blueprint represents the quality of the information entered by the product creator.'},\n",
       "  {'timestamp': [9.72, 15.22],\n",
       "   'text': 'So, the more relevant and detailed the information about the product, the larger the blueprint will be.'},\n",
       "  {'timestamp': [15.8, 20.48],\n",
       "   'text': 'Products with high blueprints tend to provide good promotional materials for affiliates.'},\n",
       "  {'timestamp': [20.48, 25.0],\n",
       "   'text': 'There is a higher proportion between the sales commission and the final price.'}]}"
      ]
     },
     "execution_count": 32,
     "metadata": {},
     "output_type": "execute_result"
    }
   ],
   "source": [
    "translated_data"
   ]
  },
  {
   "cell_type": "code",
   "execution_count": null,
   "metadata": {},
   "outputs": [],
   "source": [
    "from langchain.pydantic_v1 import BaseModel, Field\n",
    "from langchain.output_parsers import PydanticOutputParser\n",
    "\n",
    "class TranslateRequest(BaseModel):\n",
    "    original_text: str = Field(..., title=\"The text to be translated\")\n",
    "    translated_text: str = Field(..., title=\"The translated text\")\n",
    "\n",
    "parser = PydanticOutputParser(pydantic_object=TranslateRequest)"
   ]
  },
  {
   "cell_type": "markdown",
   "metadata": {},
   "source": [
    "# Teste"
   ]
  },
  {
   "cell_type": "code",
   "execution_count": 40,
   "metadata": {},
   "outputs": [],
   "source": [
    "from desafio_hotmart.translate import Translator\n",
    "\n",
    "translator = Translator(\"data/output/transcricao_com_timestamps.json\", \"openai\", \"data/output/traducao_ts.json\", \"traducao.txt\")\n",
    "translated_data = translator.translate_chunks()\n",
    "translator.export_translation(translated_data)"
   ]
  }
 ],
 "metadata": {
  "kernelspec": {
   "display_name": ".venv",
   "language": "python",
   "name": "python3"
  },
  "language_info": {
   "codemirror_mode": {
    "name": "ipython",
    "version": 3
   },
   "file_extension": ".py",
   "mimetype": "text/x-python",
   "name": "python",
   "nbconvert_exporter": "python",
   "pygments_lexer": "ipython3",
   "version": "3.10.12"
  }
 },
 "nbformat": 4,
 "nbformat_minor": 2
}
